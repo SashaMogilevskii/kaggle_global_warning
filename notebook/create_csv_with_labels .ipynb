{
 "cells": [
  {
   "cell_type": "code",
   "execution_count": 39,
   "metadata": {},
   "outputs": [],
   "source": [
    "import os \n",
    "import pandas as pd\n",
    "import numpy as np\n",
    "import matplotlib.pyplot as plt\n",
    "from tqdm.notebook import tqdm"
   ]
  },
  {
   "cell_type": "code",
   "execution_count": 40,
   "metadata": {},
   "outputs": [],
   "source": [
    "path_for_dir = [\"../data/train\", \"../data/valid\"]"
   ]
  },
  {
   "cell_type": "code",
   "execution_count": 41,
   "metadata": {},
   "outputs": [],
   "source": [
    "list_folders = path_for_dir"
   ]
  },
  {
   "cell_type": "code",
   "execution_count": 42,
   "metadata": {},
   "outputs": [
    {
     "data": {
      "application/vnd.jupyter.widget-view+json": {
       "model_id": "bd7457b8cb154f41babe3e1eecf8c147",
       "version_major": 2,
       "version_minor": 0
      },
      "text/plain": [
       "  0%|          | 0/20529 [00:00<?, ?it/s]"
      ]
     },
     "metadata": {},
     "output_type": "display_data"
    },
    {
     "data": {
      "application/vnd.jupyter.widget-view+json": {
       "model_id": "3b1ff6d19d6348c685323e7577be9d7e",
       "version_major": 2,
       "version_minor": 0
      },
      "text/plain": [
       "  0%|          | 0/1856 [00:00<?, ?it/s]"
      ]
     },
     "metadata": {},
     "output_type": "display_data"
    }
   ],
   "source": [
    "with_mask = []\n",
    "list_head_folder = []\n",
    "list_folder = []\n",
    "k = 1\n",
    "for head_folder in  list_folders:\n",
    "    \n",
    "    folders = os.listdir(head_folder)\n",
    "    for folder in tqdm(folders):\n",
    "        list_head_folder.append(head_folder)\n",
    "        list_folder.append(folder)\n",
    "        path_to_folder = os.path.join(head_folder, folder)\n",
    "        human_pixel_mask = np.load(os.path.join(path_to_folder, 'human_pixel_mask.npy'))\n",
    "        if np.any(human_pixel_mask == 1):\n",
    "            with_mask.append(True)\n",
    "        else:\n",
    "            with_mask.append(False)\n",
    "            "
   ]
  },
  {
   "cell_type": "code",
   "execution_count": 43,
   "metadata": {},
   "outputs": [],
   "source": [
    "data = pd.DataFrame({'folder': list_folder ,\n",
    "                     'head_folder': list_head_folder,\n",
    "                     'with_mask': with_mask\n",
    "                    })"
   ]
  },
  {
   "cell_type": "code",
   "execution_count": 46,
   "metadata": {},
   "outputs": [
    {
     "data": {
      "text/html": [
       "<div>\n",
       "<style scoped>\n",
       "    .dataframe tbody tr th:only-of-type {\n",
       "        vertical-align: middle;\n",
       "    }\n",
       "\n",
       "    .dataframe tbody tr th {\n",
       "        vertical-align: top;\n",
       "    }\n",
       "\n",
       "    .dataframe thead th {\n",
       "        text-align: right;\n",
       "    }\n",
       "</style>\n",
       "<table border=\"1\" class=\"dataframe\">\n",
       "  <thead>\n",
       "    <tr style=\"text-align: right;\">\n",
       "      <th></th>\n",
       "      <th>folder</th>\n",
       "      <th>head_folder</th>\n",
       "      <th>with_mask</th>\n",
       "    </tr>\n",
       "  </thead>\n",
       "  <tbody>\n",
       "    <tr>\n",
       "      <th>22380</th>\n",
       "      <td>9694875351192015</td>\n",
       "      <td>../data/valid</td>\n",
       "      <td>False</td>\n",
       "    </tr>\n",
       "    <tr>\n",
       "      <th>22381</th>\n",
       "      <td>983281586146051313</td>\n",
       "      <td>../data/valid</td>\n",
       "      <td>False</td>\n",
       "    </tr>\n",
       "    <tr>\n",
       "      <th>22382</th>\n",
       "      <td>991708144078267819</td>\n",
       "      <td>../data/valid</td>\n",
       "      <td>False</td>\n",
       "    </tr>\n",
       "    <tr>\n",
       "      <th>22383</th>\n",
       "      <td>993294049726037916</td>\n",
       "      <td>../data/valid</td>\n",
       "      <td>True</td>\n",
       "    </tr>\n",
       "    <tr>\n",
       "      <th>22384</th>\n",
       "      <td>994990958969139413</td>\n",
       "      <td>../data/valid</td>\n",
       "      <td>False</td>\n",
       "    </tr>\n",
       "  </tbody>\n",
       "</table>\n",
       "</div>"
      ],
      "text/plain": [
       "                   folder    head_folder  with_mask\n",
       "22380    9694875351192015  ../data/valid      False\n",
       "22381  983281586146051313  ../data/valid      False\n",
       "22382  991708144078267819  ../data/valid      False\n",
       "22383  993294049726037916  ../data/valid       True\n",
       "22384  994990958969139413  ../data/valid      False"
      ]
     },
     "execution_count": 46,
     "metadata": {},
     "output_type": "execute_result"
    }
   ],
   "source": [
    "data.tail()"
   ]
  },
  {
   "cell_type": "code",
   "execution_count": 47,
   "metadata": {},
   "outputs": [],
   "source": [
    "from sklearn.model_selection import StratifiedKFold\n",
    "\n",
    "def kfold_stratified(df):\n",
    "    df.head()\n",
    "\n",
    "    skf = StratifiedKFold(n_splits=6, shuffle=True)\n",
    "    for fold, (train_index, test_index) in enumerate(skf.split(df, df['with_mask'])):\n",
    "        df.loc[test_index, 'fold'] = int(fold) + 1\n",
    "\n",
    "    df['fold'] = df['fold'].astype(int)\n",
    "    # df.to_parquet('../data_kfold.parquet')\n",
    "    return df"
   ]
  },
  {
   "cell_type": "code",
   "execution_count": 48,
   "metadata": {},
   "outputs": [],
   "source": [
    "data_kfold = kfold_stratified(data)"
   ]
  },
  {
   "cell_type": "code",
   "execution_count": 49,
   "metadata": {},
   "outputs": [
    {
     "data": {
      "text/plain": [
       "fold  with_mask\n",
       "1     False        2096\n",
       "      True         1635\n",
       "2     False        2096\n",
       "      True         1635\n",
       "3     False        2096\n",
       "      True         1635\n",
       "4     False        2096\n",
       "      True         1635\n",
       "5     False        2095\n",
       "      True         1636\n",
       "6     False        2095\n",
       "      True         1635\n",
       "Name: count, dtype: int64"
      ]
     },
     "execution_count": 49,
     "metadata": {},
     "output_type": "execute_result"
    }
   ],
   "source": [
    "data_kfold.groupby('fold').with_mask.value_counts()"
   ]
  },
  {
   "cell_type": "code",
   "execution_count": null,
   "metadata": {},
   "outputs": [],
   "source": [
    "path_to_folder = r\"../data/train\\995018776372307569\""
   ]
  },
  {
   "cell_type": "code",
   "execution_count": null,
   "metadata": {},
   "outputs": [],
   "source": [
    "img = np.load(os.path.join(path_to_folder, 'img.npy'))\n",
    "human_pixel_mask = np.load(os.path.join(path_to_folder, 'human_pixel_mask.npy'))\n",
    "human_individual_mask = np.load(os.path.join(path_to_folder, 'human_individual_mask.npy'))"
   ]
  },
  {
   "cell_type": "code",
   "execution_count": null,
   "metadata": {},
   "outputs": [],
   "source": [
    "plt.figure(figsize=(18, 6))\n",
    "ax = plt.subplot(1, 4, 1)\n",
    "ax.imshow(img)\n",
    "ax.set_title('False color image')\n",
    "\n",
    "ax = plt.subplot(1, 4, 2)\n",
    "ax.imshow(np.mean(human_individual_mask, axis=3), interpolation='none')\n",
    "ax.set_title('Concat individual_mask')\n",
    "\n",
    "ax = plt.subplot(1, 4, 3)\n",
    "ax.imshow(img)\n",
    "ax.imshow(human_pixel_mask, interpolation='none')\n",
    "ax.set_title('Results pixel mask');\n",
    "\n",
    "ax = plt.subplot(1, 4, 4)\n",
    "ax.imshow(img)\n",
    "ax.imshow(human_pixel_mask, cmap='Reds', alpha=.4, interpolation='none')\n",
    "ax.set_title('Contrail mask on false color image');"
   ]
  },
  {
   "cell_type": "code",
   "execution_count": null,
   "metadata": {},
   "outputs": [],
   "source": []
  },
  {
   "cell_type": "code",
   "execution_count": 50,
   "metadata": {},
   "outputs": [],
   "source": [
    "data_kfold.to_csv('../data_6kfold.csv')"
   ]
  },
  {
   "cell_type": "code",
   "execution_count": null,
   "metadata": {},
   "outputs": [],
   "source": []
  }
 ],
 "metadata": {
  "kernelspec": {
   "display_name": "Python 3 (ipykernel)",
   "language": "python",
   "name": "python3"
  },
  "language_info": {
   "codemirror_mode": {
    "name": "ipython",
    "version": 3
   },
   "file_extension": ".py",
   "mimetype": "text/x-python",
   "name": "python",
   "nbconvert_exporter": "python",
   "pygments_lexer": "ipython3",
   "version": "3.10.7"
  }
 },
 "nbformat": 4,
 "nbformat_minor": 1
}
